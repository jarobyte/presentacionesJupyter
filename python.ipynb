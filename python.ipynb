{
 "cells": [
  {
   "cell_type": "markdown",
   "metadata": {
    "slideshow": {
     "slide_type": "slide"
    }
   },
   "source": [
    "# Preparación"
   ]
  },
  {
   "cell_type": "code",
   "execution_count": 1,
   "metadata": {
    "slideshow": {
     "slide_type": "fragment"
    }
   },
   "outputs": [],
   "source": [
    "import matplotlib.pyplot as plt\n",
    "import pandas as pd"
   ]
  },
  {
   "cell_type": "markdown",
   "metadata": {
    "slideshow": {
     "slide_type": "slide"
    }
   },
   "source": [
    "# datos"
   ]
  },
  {
   "cell_type": "code",
   "execution_count": 2,
   "metadata": {
    "slideshow": {
     "slide_type": "fragment"
    }
   },
   "outputs": [],
   "source": [
    "df = pd.read_csv(\"data.csv\")"
   ]
  },
  {
   "cell_type": "code",
   "execution_count": 3,
   "metadata": {
    "slideshow": {
     "slide_type": "fragment"
    }
   },
   "outputs": [
    {
     "data": {
      "text/html": [
       "<div>\n",
       "<table border=\"1\" class=\"dataframe\">\n",
       "  <thead>\n",
       "    <tr style=\"text-align: right;\">\n",
       "      <th></th>\n",
       "      <th>genero</th>\n",
       "      <th>wer_hmms</th>\n",
       "      <th>wer_dnns</th>\n",
       "      <th>perplejidad</th>\n",
       "      <th>oovs</th>\n",
       "      <th>t</th>\n",
       "      <th>training_time</th>\n",
       "      <th>corpus</th>\n",
       "    </tr>\n",
       "  </thead>\n",
       "  <tbody>\n",
       "    <tr>\n",
       "      <th>0</th>\n",
       "      <td>Mujeres</td>\n",
       "      <td>28.6</td>\n",
       "      <td>25.0</td>\n",
       "      <td>NaN</td>\n",
       "      <td>NaN</td>\n",
       "      <td>T29</td>\n",
       "      <td>118046</td>\n",
       "      <td>ALL_CIEMPIESS</td>\n",
       "    </tr>\n",
       "    <tr>\n",
       "      <th>1</th>\n",
       "      <td>Hombres</td>\n",
       "      <td>38.5</td>\n",
       "      <td>34.4</td>\n",
       "      <td>NaN</td>\n",
       "      <td>NaN</td>\n",
       "      <td>T29</td>\n",
       "      <td>67812</td>\n",
       "      <td>ALL_CIEMPIESS</td>\n",
       "    </tr>\n",
       "    <tr>\n",
       "      <th>2</th>\n",
       "      <td>Total</td>\n",
       "      <td>33.6</td>\n",
       "      <td>29.8</td>\n",
       "      <td>224.2933</td>\n",
       "      <td>4197.0</td>\n",
       "      <td>T29</td>\n",
       "      <td>185859</td>\n",
       "      <td>ALL_CIEMPIESS</td>\n",
       "    </tr>\n",
       "    <tr>\n",
       "      <th>3</th>\n",
       "      <td>Mujeres</td>\n",
       "      <td>32.1</td>\n",
       "      <td>29.4</td>\n",
       "      <td>NaN</td>\n",
       "      <td>NaN</td>\n",
       "      <td>T29</td>\n",
       "      <td>47287</td>\n",
       "      <td>CCmCB</td>\n",
       "    </tr>\n",
       "    <tr>\n",
       "      <th>4</th>\n",
       "      <td>Hombres</td>\n",
       "      <td>41.9</td>\n",
       "      <td>38.7</td>\n",
       "      <td>NaN</td>\n",
       "      <td>NaN</td>\n",
       "      <td>T29</td>\n",
       "      <td>22149</td>\n",
       "      <td>CCmCB</td>\n",
       "    </tr>\n",
       "  </tbody>\n",
       "</table>\n",
       "</div>"
      ],
      "text/plain": [
       "    genero  wer_hmms  wer_dnns  perplejidad    oovs    t  training_time  \\\n",
       "0  Mujeres      28.6      25.0          NaN     NaN  T29         118046   \n",
       "1  Hombres      38.5      34.4          NaN     NaN  T29          67812   \n",
       "2    Total      33.6      29.8     224.2933  4197.0  T29         185859   \n",
       "3  Mujeres      32.1      29.4          NaN     NaN  T29          47287   \n",
       "4  Hombres      41.9      38.7          NaN     NaN  T29          22149   \n",
       "\n",
       "          corpus  \n",
       "0  ALL_CIEMPIESS  \n",
       "1  ALL_CIEMPIESS  \n",
       "2  ALL_CIEMPIESS  \n",
       "3          CCmCB  \n",
       "4          CCmCB  "
      ]
     },
     "execution_count": 3,
     "metadata": {},
     "output_type": "execute_result"
    }
   ],
   "source": [
    "df.head()"
   ]
  },
  {
   "cell_type": "markdown",
   "metadata": {
    "slideshow": {
     "slide_type": "slide"
    }
   },
   "source": [
    "# grafico"
   ]
  },
  {
   "cell_type": "code",
   "execution_count": 4,
   "metadata": {
    "slideshow": {
     "slide_type": "fragment"
    }
   },
   "outputs": [
    {
     "data": {
      "text/plain": [
       "(array([2., 5., 5., 2., 4., 5., 5., 3., 3., 2.]),\n",
       " array([28.6 , 30.48, 32.36, 34.24, 36.12, 38.  , 39.88, 41.76, 43.64,\n",
       "        45.52, 47.4 ]),\n",
       " <a list of 10 Patch objects>)"
      ]
     },
     "execution_count": 4,
     "metadata": {},
     "output_type": "execute_result"
    },
    {
     "data": {
      "image/png": "[encoded data removed]",
      "text/plain": [
       "<matplotlib.figure.Figure at 0xae42f46c>"
      ]
     },
     "metadata": {},
     "output_type": "display_data"
    }
   ],
   "source": [
    "plt.hist(df[\"wer_hmms\"])"
   ]
  },
  {
   "cell_type": "markdown",
   "metadata": {
    "slideshow": {
     "slide_type": "slide"
    }
   },
   "source": [
    "# formula\n",
    "\n",
    "$$\n",
    "\\mu = 10\n",
    "$$"
   ]
  }
 ],
 "metadata": {
  "celltoolbar": "Slideshow",
  "kernelspec": {
   "display_name": "Python 3",
   "language": "python",
   "name": "python3"
  },
  "language_info": {
   "codemirror_mode": {
    "name": "ipython",
    "version": 3
   },
   "file_extension": ".py",
   "mimetype": "text/x-python",
   "name": "python",
   "nbconvert_exporter": "python",
   "pygments_lexer": "ipython3",
   "version": "3.5.3"
  }
 },
 "nbformat": 4,
 "nbformat_minor": 2
}
