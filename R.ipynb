{
 "cells": [
  {
   "cell_type": "markdown",
   "metadata": {
    "slideshow": {
     "slide_type": "slide"
    }
   },
   "source": [
    "# preparacion"
   ]
  },
  {
   "cell_type": "code",
   "execution_count": 1,
   "metadata": {
    "slideshow": {
     "slide_type": "fragment"
    }
   },
   "outputs": [
    {
     "name": "stderr",
     "output_type": "stream",
     "text": [
      "── Attaching packages ─────────────────────────────────────── tidyverse 1.2.1 ──\n",
      "✔ ggplot2 2.2.1     ✔ purrr   0.2.4\n",
      "✔ tibble  1.4.2     ✔ dplyr   0.7.4\n",
      "✔ tidyr   0.8.0     ✔ stringr 1.3.0\n",
      "✔ readr   1.1.1     ✔ forcats 0.3.0\n",
      "── Conflicts ────────────────────────────────────────── tidyverse_conflicts() ──\n",
      "✖ dplyr::filter() masks stats::filter()\n",
      "✖ dplyr::lag()    masks stats::lag()\n"
     ]
    }
   ],
   "source": [
    "library(\"tidyverse\")"
   ]
  },
  {
   "cell_type": "markdown",
   "metadata": {
    "slideshow": {
     "slide_type": "slide"
    }
   },
   "source": [
    "# datos"
   ]
  },
  {
   "cell_type": "code",
   "execution_count": 2,
   "metadata": {
    "slideshow": {
     "slide_type": "skip"
    }
   },
   "outputs": [
    {
     "name": "stderr",
     "output_type": "stream",
     "text": [
      "Parsed with column specification:\n",
      "cols(\n",
      "  genero = col_character(),\n",
      "  wer_hmms = col_double(),\n",
      "  wer_dnns = col_double(),\n",
      "  perplejidad = col_double(),\n",
      "  oovs = col_integer(),\n",
      "  t = col_character(),\n",
      "  training_time = col_integer(),\n",
      "  corpus = col_character()\n",
      ")\n"
     ]
    }
   ],
   "source": [
    "df = read_csv(\"data.csv\")"
   ]
  },
  {
   "cell_type": "code",
   "execution_count": 3,
   "metadata": {
    "slideshow": {
     "slide_type": "fragment"
    }
   },
   "outputs": [
    {
     "data": {
      "text/html": [
       "<table>\n",
       "<thead><tr><th scope=col>genero</th><th scope=col>wer_hmms</th><th scope=col>wer_dnns</th><th scope=col>perplejidad</th><th scope=col>oovs</th><th scope=col>t</th><th scope=col>training_time</th><th scope=col>corpus</th></tr></thead>\n",
       "<tbody>\n",
       "\t<tr><td>Mujeres      </td><td>28.6         </td><td>25.0         </td><td>      NA     </td><td>  NA         </td><td>T29          </td><td>118046       </td><td>ALL_CIEMPIESS</td></tr>\n",
       "\t<tr><td>Hombres      </td><td>38.5         </td><td>34.4         </td><td>      NA     </td><td>  NA         </td><td>T29          </td><td> 67812       </td><td>ALL_CIEMPIESS</td></tr>\n",
       "\t<tr><td>Total        </td><td>33.6         </td><td>29.8         </td><td>224.2933     </td><td>4197         </td><td>T29          </td><td>185859       </td><td>ALL_CIEMPIESS</td></tr>\n",
       "\t<tr><td>Mujeres      </td><td>32.1         </td><td>29.4         </td><td>      NA     </td><td>  NA         </td><td>T29          </td><td> 47287       </td><td>CCmCB        </td></tr>\n",
       "\t<tr><td>Hombres      </td><td>41.9         </td><td>38.7         </td><td>      NA     </td><td>  NA         </td><td>T29          </td><td> 22149       </td><td>CCmCB        </td></tr>\n",
       "\t<tr><td>Total        </td><td>37.1         </td><td>34.1         </td><td>219.2413     </td><td>6115         </td><td>T29          </td><td> 69437       </td><td>CCmCB        </td></tr>\n",
       "</tbody>\n",
       "</table>\n"
      ],
      "text/latex": [
       "\\begin{tabular}{r|llllllll}\n",
       " genero & wer\\_hmms & wer\\_dnns & perplejidad & oovs & t & training\\_time & corpus\\\\\n",
       "\\hline\n",
       "\t Mujeres         & 28.6            & 25.0            &       NA        &   NA            & T29             & 118046          & ALL\\_CIEMPIESS\\\\\n",
       "\t Hombres         & 38.5            & 34.4            &       NA        &   NA            & T29             &  67812          & ALL\\_CIEMPIESS\\\\\n",
       "\t Total           & 33.6            & 29.8            & 224.2933        & 4197            & T29             & 185859          & ALL\\_CIEMPIESS\\\\\n",
       "\t Mujeres       & 32.1          & 29.4          &       NA      &   NA          & T29           &  47287        & CCmCB        \\\\\n",
       "\t Hombres       & 41.9          & 38.7          &       NA      &   NA          & T29           &  22149        & CCmCB        \\\\\n",
       "\t Total         & 37.1          & 34.1          & 219.2413      & 6115          & T29           &  69437        & CCmCB        \\\\\n",
       "\\end{tabular}\n"
      ],
      "text/markdown": [
       "\n",
       "genero | wer_hmms | wer_dnns | perplejidad | oovs | t | training_time | corpus | \n",
       "|---|---|---|---|---|---|\n",
       "| Mujeres       | 28.6          | 25.0          |       NA      |   NA          | T29           | 118046        | ALL_CIEMPIESS | \n",
       "| Hombres       | 38.5          | 34.4          |       NA      |   NA          | T29           |  67812        | ALL_CIEMPIESS | \n",
       "| Total         | 33.6          | 29.8          | 224.2933      | 4197          | T29           | 185859        | ALL_CIEMPIESS | \n",
       "| Mujeres       | 32.1          | 29.4          |       NA      |   NA          | T29           |  47287        | CCmCB         | \n",
       "| Hombres       | 41.9          | 38.7          |       NA      |   NA          | T29           |  22149        | CCmCB         | \n",
       "| Total         | 37.1          | 34.1          | 219.2413      | 6115          | T29           |  69437        | CCmCB         | \n",
       "\n",
       "\n"
      ],
      "text/plain": [
       "  genero  wer_hmms wer_dnns perplejidad oovs t   training_time corpus       \n",
       "1 Mujeres 28.6     25.0           NA      NA T29 118046        ALL_CIEMPIESS\n",
       "2 Hombres 38.5     34.4           NA      NA T29  67812        ALL_CIEMPIESS\n",
       "3 Total   33.6     29.8     224.2933    4197 T29 185859        ALL_CIEMPIESS\n",
       "4 Mujeres 32.1     29.4           NA      NA T29  47287        CCmCB        \n",
       "5 Hombres 41.9     38.7           NA      NA T29  22149        CCmCB        \n",
       "6 Total   37.1     34.1     219.2413    6115 T29  69437        CCmCB        "
      ]
     },
     "metadata": {},
     "output_type": "display_data"
    }
   ],
   "source": [
    "head(df)"
   ]
  },
  {
   "cell_type": "markdown",
   "metadata": {
    "slideshow": {
     "slide_type": "slide"
    }
   },
   "source": [
    "# grafico"
   ]
  },
  {
   "cell_type": "code",
   "execution_count": 7,
   "metadata": {
    "scrolled": false,
    "slideshow": {
     "slide_type": "fragment"
    }
   },
   "outputs": [
    {
     "name": "stderr",
     "output_type": "stream",
     "text": [
      "`stat_bin()` using `bins = 30`. Pick better value with `binwidth`.\n"
     ]
    },
    {
     "data": {},
     "metadata": {},
     "output_type": "display_data"
    },
    {
     "data": {
      "image/png": "[encoded data removed]",
      "text/plain": [
       "plot without title"
      ]
     },
     "metadata": {},
     "output_type": "display_data"
    }
   ],
   "source": [
    "options(repr.plot.width=10, repr.plot.height=5)\n",
    "#hist(df[[\"wer_hmms\"]])\n",
    "ggplot(df, aes(x = wer_hmms)) + geom_histogram()"
   ]
  },
  {
   "cell_type": "markdown",
   "metadata": {
    "slideshow": {
     "slide_type": "slide"
    }
   },
   "source": [
    "# formula"
   ]
  },
  {
   "cell_type": "markdown",
   "metadata": {
    "slideshow": {
     "slide_type": "fragment"
    }
   },
   "source": [
    "$$\n",
    "\\mu = 10\n",
    "$$"
   ]
  }
 ],
 "metadata": {
  "celltoolbar": "Slideshow",
  "kernelspec": {
   "display_name": "R",
   "language": "R",
   "name": "ir"
  },
  "language_info": {
   "codemirror_mode": "r",
   "file_extension": ".r",
   "mimetype": "text/x-r-source",
   "name": "R",
   "pygments_lexer": "r",
   "version": "3.3.3"
  }
 },
 "nbformat": 4,
 "nbformat_minor": 2
}
