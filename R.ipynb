{
 "cells": [
  {
   "cell_type": "markdown",
   "metadata": {
    "slideshow": {
     "slide_type": "slide"
    }
   },
   "source": [
    "# preparacion"
   ]
  },
  {
   "cell_type": "code",
   "execution_count": 2,
   "metadata": {
    "slideshow": {
     "slide_type": "fragment"
    }
   },
   "outputs": [
    {
     "name": "stderr",
     "output_type": "stream",
     "text": [
      "── Attaching packages ─────────────────────────────────────── tidyverse 1.2.1 ──\n",
      "✔ ggplot2 2.2.1     ✔ purrr   0.2.4\n",
      "✔ tibble  1.4.1     ✔ dplyr   0.7.4\n",
      "✔ tidyr   0.7.2     ✔ stringr 1.2.0\n",
      "✔ readr   1.1.1     ✔ forcats 0.2.0\n",
      "── Conflicts ────────────────────────────────────────── tidyverse_conflicts() ──\n",
      "✖ dplyr::filter() masks stats::filter()\n",
      "✖ dplyr::lag()    masks stats::lag()\n"
     ]
    }
   ],
   "source": [
    "library(\"tidyverse\")"
   ]
  },
  {
   "cell_type": "markdown",
   "metadata": {
    "slideshow": {
     "slide_type": "slide"
    }
   },
   "source": [
    "# datos"
   ]
  },
  {
   "cell_type": "code",
   "execution_count": 3,
   "metadata": {
    "slideshow": {
     "slide_type": "skip"
    }
   },
   "outputs": [
    {
     "name": "stderr",
     "output_type": "stream",
     "text": [
      "Parsed with column specification:\n",
      "cols(\n",
      "  genero = col_character(),\n",
      "  wer_hmms = col_double(),\n",
      "  wer_dnns = col_double(),\n",
      "  perplejidad = col_double(),\n",
      "  oovs = col_integer(),\n",
      "  t = col_character(),\n",
      "  training_time = col_integer(),\n",
      "  corpus = col_character()\n",
      ")\n"
     ]
    }
   ],
   "source": [
    "df = read_csv(\"data.csv\")"
   ]
  },
  {
   "cell_type": "code",
   "execution_count": 4,
   "metadata": {
    "slideshow": {
     "slide_type": "fragment"
    }
   },
   "outputs": [
    {
     "data": {
      "text/html": [
       "<table>\n",
       "<thead><tr><th scope=col>genero</th><th scope=col>wer_hmms</th><th scope=col>wer_dnns</th><th scope=col>perplejidad</th><th scope=col>oovs</th><th scope=col>t</th><th scope=col>training_time</th><th scope=col>corpus</th></tr></thead>\n",
       "<tbody>\n",
       "\t<tr><td>Mujeres      </td><td>28.6         </td><td>25.0         </td><td>      NA     </td><td>  NA         </td><td>T29          </td><td>118046       </td><td>ALL_CIEMPIESS</td></tr>\n",
       "\t<tr><td>Hombres      </td><td>38.5         </td><td>34.4         </td><td>      NA     </td><td>  NA         </td><td>T29          </td><td> 67812       </td><td>ALL_CIEMPIESS</td></tr>\n",
       "\t<tr><td>Total        </td><td>33.6         </td><td>29.8         </td><td>224.2933     </td><td>4197         </td><td>T29          </td><td>185859       </td><td>ALL_CIEMPIESS</td></tr>\n",
       "\t<tr><td>Mujeres      </td><td>32.1         </td><td>29.4         </td><td>      NA     </td><td>  NA         </td><td>T29          </td><td> 47287       </td><td>CCmCB        </td></tr>\n",
       "\t<tr><td>Hombres      </td><td>41.9         </td><td>38.7         </td><td>      NA     </td><td>  NA         </td><td>T29          </td><td> 22149       </td><td>CCmCB        </td></tr>\n",
       "\t<tr><td>Total        </td><td>37.1         </td><td>34.1         </td><td>219.2413     </td><td>6115         </td><td>T29          </td><td> 69437       </td><td>CCmCB        </td></tr>\n",
       "</tbody>\n",
       "</table>\n"
      ],
      "text/latex": [
       "\\begin{tabular}{r|llllllll}\n",
       " genero & wer\\_hmms & wer\\_dnns & perplejidad & oovs & t & training\\_time & corpus\\\\\n",
       "\\hline\n",
       "\t Mujeres         & 28.6            & 25.0            &       NA        &   NA            & T29             & 118046          & ALL\\_CIEMPIESS\\\\\n",
       "\t Hombres         & 38.5            & 34.4            &       NA        &   NA            & T29             &  67812          & ALL\\_CIEMPIESS\\\\\n",
       "\t Total           & 33.6            & 29.8            & 224.2933        & 4197            & T29             & 185859          & ALL\\_CIEMPIESS\\\\\n",
       "\t Mujeres       & 32.1          & 29.4          &       NA      &   NA          & T29           &  47287        & CCmCB        \\\\\n",
       "\t Hombres       & 41.9          & 38.7          &       NA      &   NA          & T29           &  22149        & CCmCB        \\\\\n",
       "\t Total         & 37.1          & 34.1          & 219.2413      & 6115          & T29           &  69437        & CCmCB        \\\\\n",
       "\\end{tabular}\n"
      ],
      "text/markdown": [
       "\n",
       "genero | wer_hmms | wer_dnns | perplejidad | oovs | t | training_time | corpus | \n",
       "|---|---|---|---|---|---|\n",
       "| Mujeres       | 28.6          | 25.0          |       NA      |   NA          | T29           | 118046        | ALL_CIEMPIESS | \n",
       "| Hombres       | 38.5          | 34.4          |       NA      |   NA          | T29           |  67812        | ALL_CIEMPIESS | \n",
       "| Total         | 33.6          | 29.8          | 224.2933      | 4197          | T29           | 185859        | ALL_CIEMPIESS | \n",
       "| Mujeres       | 32.1          | 29.4          |       NA      |   NA          | T29           |  47287        | CCmCB         | \n",
       "| Hombres       | 41.9          | 38.7          |       NA      |   NA          | T29           |  22149        | CCmCB         | \n",
       "| Total         | 37.1          | 34.1          | 219.2413      | 6115          | T29           |  69437        | CCmCB         | \n",
       "\n",
       "\n"
      ],
      "text/plain": [
       "  genero  wer_hmms wer_dnns perplejidad oovs t   training_time corpus       \n",
       "1 Mujeres 28.6     25.0           NA      NA T29 118046        ALL_CIEMPIESS\n",
       "2 Hombres 38.5     34.4           NA      NA T29  67812        ALL_CIEMPIESS\n",
       "3 Total   33.6     29.8     224.2933    4197 T29 185859        ALL_CIEMPIESS\n",
       "4 Mujeres 32.1     29.4           NA      NA T29  47287        CCmCB        \n",
       "5 Hombres 41.9     38.7           NA      NA T29  22149        CCmCB        \n",
       "6 Total   37.1     34.1     219.2413    6115 T29  69437        CCmCB        "
      ]
     },
     "metadata": {},
     "output_type": "display_data"
    }
   ],
   "source": [
    "head(df)"
   ]
  },
  {
   "cell_type": "markdown",
   "metadata": {
    "slideshow": {
     "slide_type": "slide"
    }
   },
   "source": [
    "# grafico"
   ]
  },
  {
   "cell_type": "code",
   "execution_count": 5,
   "metadata": {
    "scrolled": false,
    "slideshow": {
     "slide_type": "fragment"
    }
   },
   "outputs": [
    {
     "name": "stderr",
     "output_type": "stream",
     "text": [
      "`stat_bin()` using `bins = 30`. Pick better value with `binwidth`.\n"
     ]
    },
    {
     "data": {},
     "metadata": {},
     "output_type": "display_data"
    },
    {
     "data": {
      "image/png": "[encoded data removed]",
      "text/plain": [
       "plot without title"
      ]
     },
     "metadata": {},
     "output_type": "display_data"
    }
   ],
   "source": [
    "# Aquí es donde se puede editar el tamaño de las imágenes\n",
    "options(repr.plot.width=10, repr.plot.height=5)\n",
    "#hist(df[[\"wer_hmms\"]])\n",
    "ggplot(df, aes(x = wer_hmms)) + geom_histogram()"
   ]
  },
  {
   "cell_type": "code",
   "execution_count": 7,
   "metadata": {},
   "outputs": [
    {
     "data": {
      "text/html": [
       "<table>\n",
       "<thead><tr><th scope=col>country</th><th scope=col>iso2</th><th scope=col>iso3</th><th scope=col>year</th><th scope=col>new_sp_m014</th><th scope=col>new_sp_m1524</th><th scope=col>new_sp_m2534</th><th scope=col>new_sp_m3544</th><th scope=col>new_sp_m4554</th><th scope=col>new_sp_m5564</th><th scope=col>⋯</th><th scope=col>newrel_m4554</th><th scope=col>newrel_m5564</th><th scope=col>newrel_m65</th><th scope=col>newrel_f014</th><th scope=col>newrel_f1524</th><th scope=col>newrel_f2534</th><th scope=col>newrel_f3544</th><th scope=col>newrel_f4554</th><th scope=col>newrel_f5564</th><th scope=col>newrel_f65</th></tr></thead>\n",
       "<tbody>\n",
       "\t<tr><td>Afghanistan</td><td>AF         </td><td>AFG        </td><td>1980       </td><td>NA         </td><td>NA         </td><td>NA         </td><td>NA         </td><td>NA         </td><td>NA         </td><td>⋯          </td><td>NA         </td><td>NA         </td><td>NA         </td><td>NA         </td><td>NA         </td><td>NA         </td><td>NA         </td><td>NA         </td><td>NA         </td><td>NA         </td></tr>\n",
       "\t<tr><td>Afghanistan</td><td>AF         </td><td>AFG        </td><td>1981       </td><td>NA         </td><td>NA         </td><td>NA         </td><td>NA         </td><td>NA         </td><td>NA         </td><td>⋯          </td><td>NA         </td><td>NA         </td><td>NA         </td><td>NA         </td><td>NA         </td><td>NA         </td><td>NA         </td><td>NA         </td><td>NA         </td><td>NA         </td></tr>\n",
       "\t<tr><td>Afghanistan</td><td>AF         </td><td>AFG        </td><td>1982       </td><td>NA         </td><td>NA         </td><td>NA         </td><td>NA         </td><td>NA         </td><td>NA         </td><td>⋯          </td><td>NA         </td><td>NA         </td><td>NA         </td><td>NA         </td><td>NA         </td><td>NA         </td><td>NA         </td><td>NA         </td><td>NA         </td><td>NA         </td></tr>\n",
       "\t<tr><td>Afghanistan</td><td>AF         </td><td>AFG        </td><td>1983       </td><td>NA         </td><td>NA         </td><td>NA         </td><td>NA         </td><td>NA         </td><td>NA         </td><td>⋯          </td><td>NA         </td><td>NA         </td><td>NA         </td><td>NA         </td><td>NA         </td><td>NA         </td><td>NA         </td><td>NA         </td><td>NA         </td><td>NA         </td></tr>\n",
       "\t<tr><td>Afghanistan</td><td>AF         </td><td>AFG        </td><td>1984       </td><td>NA         </td><td>NA         </td><td>NA         </td><td>NA         </td><td>NA         </td><td>NA         </td><td>⋯          </td><td>NA         </td><td>NA         </td><td>NA         </td><td>NA         </td><td>NA         </td><td>NA         </td><td>NA         </td><td>NA         </td><td>NA         </td><td>NA         </td></tr>\n",
       "\t<tr><td>Afghanistan</td><td>AF         </td><td>AFG        </td><td>1985       </td><td>NA         </td><td>NA         </td><td>NA         </td><td>NA         </td><td>NA         </td><td>NA         </td><td>⋯          </td><td>NA         </td><td>NA         </td><td>NA         </td><td>NA         </td><td>NA         </td><td>NA         </td><td>NA         </td><td>NA         </td><td>NA         </td><td>NA         </td></tr>\n",
       "</tbody>\n",
       "</table>\n"
      ],
      "text/latex": [
       "\\begin{tabular}{r|llllllllllllllllllllllllllllllllllllllllllllllllllllllllllll}\n",
       " country & iso2 & iso3 & year & new\\_sp\\_m014 & new\\_sp\\_m1524 & new\\_sp\\_m2534 & new\\_sp\\_m3544 & new\\_sp\\_m4554 & new\\_sp\\_m5564 & ⋯ & newrel\\_m4554 & newrel\\_m5564 & newrel\\_m65 & newrel\\_f014 & newrel\\_f1524 & newrel\\_f2534 & newrel\\_f3544 & newrel\\_f4554 & newrel\\_f5564 & newrel\\_f65\\\\\n",
       "\\hline\n",
       "\t Afghanistan & AF          & AFG         & 1980        & NA          & NA          & NA          & NA          & NA          & NA          & ⋯           & NA          & NA          & NA          & NA          & NA          & NA          & NA          & NA          & NA          & NA         \\\\\n",
       "\t Afghanistan & AF          & AFG         & 1981        & NA          & NA          & NA          & NA          & NA          & NA          & ⋯           & NA          & NA          & NA          & NA          & NA          & NA          & NA          & NA          & NA          & NA         \\\\\n",
       "\t Afghanistan & AF          & AFG         & 1982        & NA          & NA          & NA          & NA          & NA          & NA          & ⋯           & NA          & NA          & NA          & NA          & NA          & NA          & NA          & NA          & NA          & NA         \\\\\n",
       "\t Afghanistan & AF          & AFG         & 1983        & NA          & NA          & NA          & NA          & NA          & NA          & ⋯           & NA          & NA          & NA          & NA          & NA          & NA          & NA          & NA          & NA          & NA         \\\\\n",
       "\t Afghanistan & AF          & AFG         & 1984        & NA          & NA          & NA          & NA          & NA          & NA          & ⋯           & NA          & NA          & NA          & NA          & NA          & NA          & NA          & NA          & NA          & NA         \\\\\n",
       "\t Afghanistan & AF          & AFG         & 1985        & NA          & NA          & NA          & NA          & NA          & NA          & ⋯           & NA          & NA          & NA          & NA          & NA          & NA          & NA          & NA          & NA          & NA         \\\\\n",
       "\\end{tabular}\n"
      ],
      "text/markdown": [
       "\n",
       "country | iso2 | iso3 | year | new_sp_m014 | new_sp_m1524 | new_sp_m2534 | new_sp_m3544 | new_sp_m4554 | new_sp_m5564 | ⋯ | newrel_m4554 | newrel_m5564 | newrel_m65 | newrel_f014 | newrel_f1524 | newrel_f2534 | newrel_f3544 | newrel_f4554 | newrel_f5564 | newrel_f65 | \n",
       "|---|---|---|---|---|---|\n",
       "| Afghanistan | AF          | AFG         | 1980        | NA          | NA          | NA          | NA          | NA          | NA          | ⋯           | NA          | NA          | NA          | NA          | NA          | NA          | NA          | NA          | NA          | NA          | \n",
       "| Afghanistan | AF          | AFG         | 1981        | NA          | NA          | NA          | NA          | NA          | NA          | ⋯           | NA          | NA          | NA          | NA          | NA          | NA          | NA          | NA          | NA          | NA          | \n",
       "| Afghanistan | AF          | AFG         | 1982        | NA          | NA          | NA          | NA          | NA          | NA          | ⋯           | NA          | NA          | NA          | NA          | NA          | NA          | NA          | NA          | NA          | NA          | \n",
       "| Afghanistan | AF          | AFG         | 1983        | NA          | NA          | NA          | NA          | NA          | NA          | ⋯           | NA          | NA          | NA          | NA          | NA          | NA          | NA          | NA          | NA          | NA          | \n",
       "| Afghanistan | AF          | AFG         | 1984        | NA          | NA          | NA          | NA          | NA          | NA          | ⋯           | NA          | NA          | NA          | NA          | NA          | NA          | NA          | NA          | NA          | NA          | \n",
       "| Afghanistan | AF          | AFG         | 1985        | NA          | NA          | NA          | NA          | NA          | NA          | ⋯           | NA          | NA          | NA          | NA          | NA          | NA          | NA          | NA          | NA          | NA          | \n",
       "\n",
       "\n"
      ],
      "text/plain": [
       "  country     iso2 iso3 year new_sp_m014 new_sp_m1524 new_sp_m2534 new_sp_m3544\n",
       "1 Afghanistan AF   AFG  1980 NA          NA           NA           NA          \n",
       "2 Afghanistan AF   AFG  1981 NA          NA           NA           NA          \n",
       "3 Afghanistan AF   AFG  1982 NA          NA           NA           NA          \n",
       "4 Afghanistan AF   AFG  1983 NA          NA           NA           NA          \n",
       "5 Afghanistan AF   AFG  1984 NA          NA           NA           NA          \n",
       "6 Afghanistan AF   AFG  1985 NA          NA           NA           NA          \n",
       "  new_sp_m4554 new_sp_m5564 ⋯ newrel_m4554 newrel_m5564 newrel_m65 newrel_f014\n",
       "1 NA           NA           ⋯ NA           NA           NA         NA         \n",
       "2 NA           NA           ⋯ NA           NA           NA         NA         \n",
       "3 NA           NA           ⋯ NA           NA           NA         NA         \n",
       "4 NA           NA           ⋯ NA           NA           NA         NA         \n",
       "5 NA           NA           ⋯ NA           NA           NA         NA         \n",
       "6 NA           NA           ⋯ NA           NA           NA         NA         \n",
       "  newrel_f1524 newrel_f2534 newrel_f3544 newrel_f4554 newrel_f5564 newrel_f65\n",
       "1 NA           NA           NA           NA           NA           NA        \n",
       "2 NA           NA           NA           NA           NA           NA        \n",
       "3 NA           NA           NA           NA           NA           NA        \n",
       "4 NA           NA           NA           NA           NA           NA        \n",
       "5 NA           NA           NA           NA           NA           NA        \n",
       "6 NA           NA           NA           NA           NA           NA        "
      ]
     },
     "metadata": {},
     "output_type": "display_data"
    }
   ],
   "source": [
    "# Otro problema es que los dataframes salen con muy pocas columnas \n",
    "# y filas\n",
    "head(who)"
   ]
  },
  {
   "cell_type": "code",
   "execution_count": 8,
   "metadata": {},
   "outputs": [
    {
     "data": {
      "text/html": [
       "<table>\n",
       "<thead><tr><th scope=col>country</th><th scope=col>iso2</th><th scope=col>iso3</th><th scope=col>year</th><th scope=col>new_sp_m014</th><th scope=col>new_sp_m1524</th><th scope=col>new_sp_m2534</th><th scope=col>new_sp_m3544</th><th scope=col>new_sp_m4554</th><th scope=col>new_sp_m5564</th><th scope=col>new_sp_m65</th><th scope=col>new_sp_f014</th><th scope=col>new_sp_f1524</th><th scope=col>new_sp_f2534</th><th scope=col>new_sp_f3544</th><th scope=col>new_sp_f4554</th><th scope=col>new_sp_f5564</th><th scope=col>new_sp_f65</th><th scope=col>new_sn_m014</th><th scope=col>new_sn_m1524</th><th scope=col>new_sn_m2534</th><th scope=col>new_sn_m3544</th><th scope=col>new_sn_m4554</th><th scope=col>new_sn_m5564</th><th scope=col>new_sn_m65</th><th scope=col>⋯</th><th scope=col>new_ep_m3544</th><th scope=col>new_ep_m4554</th><th scope=col>new_ep_m5564</th><th scope=col>new_ep_m65</th><th scope=col>new_ep_f014</th><th scope=col>new_ep_f1524</th><th scope=col>new_ep_f2534</th><th scope=col>new_ep_f3544</th><th scope=col>new_ep_f4554</th><th scope=col>new_ep_f5564</th><th scope=col>new_ep_f65</th><th scope=col>newrel_m014</th><th scope=col>newrel_m1524</th><th scope=col>newrel_m2534</th><th scope=col>newrel_m3544</th><th scope=col>newrel_m4554</th><th scope=col>newrel_m5564</th><th scope=col>newrel_m65</th><th scope=col>newrel_f014</th><th scope=col>newrel_f1524</th><th scope=col>newrel_f2534</th><th scope=col>newrel_f3544</th><th scope=col>newrel_f4554</th><th scope=col>newrel_f5564</th><th scope=col>newrel_f65</th></tr></thead>\n",
       "<tbody>\n",
       "\t<tr><td>Afghanistan</td><td>AF         </td><td>AFG        </td><td>1980       </td><td>NA         </td><td>NA         </td><td>NA         </td><td>NA         </td><td>NA         </td><td>NA         </td><td>NA         </td><td>NA         </td><td>NA         </td><td>NA         </td><td>NA         </td><td>NA         </td><td>NA         </td><td>NA         </td><td>NA         </td><td>NA         </td><td>NA         </td><td>NA         </td><td>NA         </td><td>NA         </td><td>NA         </td><td>⋯          </td><td>NA         </td><td>NA         </td><td>NA         </td><td>NA         </td><td>NA         </td><td>NA         </td><td>NA         </td><td>NA         </td><td>NA         </td><td>NA         </td><td>NA         </td><td>NA         </td><td>NA         </td><td>NA         </td><td>NA         </td><td>NA         </td><td>NA         </td><td>NA         </td><td>NA         </td><td>NA         </td><td>NA         </td><td>NA         </td><td>NA         </td><td>NA         </td><td>NA         </td></tr>\n",
       "\t<tr><td>Afghanistan</td><td>AF         </td><td>AFG        </td><td>1981       </td><td>NA         </td><td>NA         </td><td>NA         </td><td>NA         </td><td>NA         </td><td>NA         </td><td>NA         </td><td>NA         </td><td>NA         </td><td>NA         </td><td>NA         </td><td>NA         </td><td>NA         </td><td>NA         </td><td>NA         </td><td>NA         </td><td>NA         </td><td>NA         </td><td>NA         </td><td>NA         </td><td>NA         </td><td>⋯          </td><td>NA         </td><td>NA         </td><td>NA         </td><td>NA         </td><td>NA         </td><td>NA         </td><td>NA         </td><td>NA         </td><td>NA         </td><td>NA         </td><td>NA         </td><td>NA         </td><td>NA         </td><td>NA         </td><td>NA         </td><td>NA         </td><td>NA         </td><td>NA         </td><td>NA         </td><td>NA         </td><td>NA         </td><td>NA         </td><td>NA         </td><td>NA         </td><td>NA         </td></tr>\n",
       "\t<tr><td>Afghanistan</td><td>AF         </td><td>AFG        </td><td>1982       </td><td>NA         </td><td>NA         </td><td>NA         </td><td>NA         </td><td>NA         </td><td>NA         </td><td>NA         </td><td>NA         </td><td>NA         </td><td>NA         </td><td>NA         </td><td>NA         </td><td>NA         </td><td>NA         </td><td>NA         </td><td>NA         </td><td>NA         </td><td>NA         </td><td>NA         </td><td>NA         </td><td>NA         </td><td>⋯          </td><td>NA         </td><td>NA         </td><td>NA         </td><td>NA         </td><td>NA         </td><td>NA         </td><td>NA         </td><td>NA         </td><td>NA         </td><td>NA         </td><td>NA         </td><td>NA         </td><td>NA         </td><td>NA         </td><td>NA         </td><td>NA         </td><td>NA         </td><td>NA         </td><td>NA         </td><td>NA         </td><td>NA         </td><td>NA         </td><td>NA         </td><td>NA         </td><td>NA         </td></tr>\n",
       "\t<tr><td>Afghanistan</td><td>AF         </td><td>AFG        </td><td>1983       </td><td>NA         </td><td>NA         </td><td>NA         </td><td>NA         </td><td>NA         </td><td>NA         </td><td>NA         </td><td>NA         </td><td>NA         </td><td>NA         </td><td>NA         </td><td>NA         </td><td>NA         </td><td>NA         </td><td>NA         </td><td>NA         </td><td>NA         </td><td>NA         </td><td>NA         </td><td>NA         </td><td>NA         </td><td>⋯          </td><td>NA         </td><td>NA         </td><td>NA         </td><td>NA         </td><td>NA         </td><td>NA         </td><td>NA         </td><td>NA         </td><td>NA         </td><td>NA         </td><td>NA         </td><td>NA         </td><td>NA         </td><td>NA         </td><td>NA         </td><td>NA         </td><td>NA         </td><td>NA         </td><td>NA         </td><td>NA         </td><td>NA         </td><td>NA         </td><td>NA         </td><td>NA         </td><td>NA         </td></tr>\n",
       "\t<tr><td>Afghanistan</td><td>AF         </td><td>AFG        </td><td>1984       </td><td>NA         </td><td>NA         </td><td>NA         </td><td>NA         </td><td>NA         </td><td>NA         </td><td>NA         </td><td>NA         </td><td>NA         </td><td>NA         </td><td>NA         </td><td>NA         </td><td>NA         </td><td>NA         </td><td>NA         </td><td>NA         </td><td>NA         </td><td>NA         </td><td>NA         </td><td>NA         </td><td>NA         </td><td>⋯          </td><td>NA         </td><td>NA         </td><td>NA         </td><td>NA         </td><td>NA         </td><td>NA         </td><td>NA         </td><td>NA         </td><td>NA         </td><td>NA         </td><td>NA         </td><td>NA         </td><td>NA         </td><td>NA         </td><td>NA         </td><td>NA         </td><td>NA         </td><td>NA         </td><td>NA         </td><td>NA         </td><td>NA         </td><td>NA         </td><td>NA         </td><td>NA         </td><td>NA         </td></tr>\n",
       "\t<tr><td>Afghanistan</td><td>AF         </td><td>AFG        </td><td>1985       </td><td>NA         </td><td>NA         </td><td>NA         </td><td>NA         </td><td>NA         </td><td>NA         </td><td>NA         </td><td>NA         </td><td>NA         </td><td>NA         </td><td>NA         </td><td>NA         </td><td>NA         </td><td>NA         </td><td>NA         </td><td>NA         </td><td>NA         </td><td>NA         </td><td>NA         </td><td>NA         </td><td>NA         </td><td>⋯          </td><td>NA         </td><td>NA         </td><td>NA         </td><td>NA         </td><td>NA         </td><td>NA         </td><td>NA         </td><td>NA         </td><td>NA         </td><td>NA         </td><td>NA         </td><td>NA         </td><td>NA         </td><td>NA         </td><td>NA         </td><td>NA         </td><td>NA         </td><td>NA         </td><td>NA         </td><td>NA         </td><td>NA         </td><td>NA         </td><td>NA         </td><td>NA         </td><td>NA         </td></tr>\n",
       "\t<tr><td>Afghanistan</td><td>AF         </td><td>AFG        </td><td>1986       </td><td>NA         </td><td>NA         </td><td>NA         </td><td>NA         </td><td>NA         </td><td>NA         </td><td>NA         </td><td>NA         </td><td>NA         </td><td>NA         </td><td>NA         </td><td>NA         </td><td>NA         </td><td>NA         </td><td>NA         </td><td>NA         </td><td>NA         </td><td>NA         </td><td>NA         </td><td>NA         </td><td>NA         </td><td>⋯          </td><td>NA         </td><td>NA         </td><td>NA         </td><td>NA         </td><td>NA         </td><td>NA         </td><td>NA         </td><td>NA         </td><td>NA         </td><td>NA         </td><td>NA         </td><td>NA         </td><td>NA         </td><td>NA         </td><td>NA         </td><td>NA         </td><td>NA         </td><td>NA         </td><td>NA         </td><td>NA         </td><td>NA         </td><td>NA         </td><td>NA         </td><td>NA         </td><td>NA         </td></tr>\n",
       "\t<tr><td>Afghanistan</td><td>AF         </td><td>AFG        </td><td>1987       </td><td>NA         </td><td>NA         </td><td>NA         </td><td>NA         </td><td>NA         </td><td>NA         </td><td>NA         </td><td>NA         </td><td>NA         </td><td>NA         </td><td>NA         </td><td>NA         </td><td>NA         </td><td>NA         </td><td>NA         </td><td>NA         </td><td>NA         </td><td>NA         </td><td>NA         </td><td>NA         </td><td>NA         </td><td>⋯          </td><td>NA         </td><td>NA         </td><td>NA         </td><td>NA         </td><td>NA         </td><td>NA         </td><td>NA         </td><td>NA         </td><td>NA         </td><td>NA         </td><td>NA         </td><td>NA         </td><td>NA         </td><td>NA         </td><td>NA         </td><td>NA         </td><td>NA         </td><td>NA         </td><td>NA         </td><td>NA         </td><td>NA         </td><td>NA         </td><td>NA         </td><td>NA         </td><td>NA         </td></tr>\n",
       "\t<tr><td>Afghanistan</td><td>AF         </td><td>AFG        </td><td>1988       </td><td>NA         </td><td>NA         </td><td>NA         </td><td>NA         </td><td>NA         </td><td>NA         </td><td>NA         </td><td>NA         </td><td>NA         </td><td>NA         </td><td>NA         </td><td>NA         </td><td>NA         </td><td>NA         </td><td>NA         </td><td>NA         </td><td>NA         </td><td>NA         </td><td>NA         </td><td>NA         </td><td>NA         </td><td>⋯          </td><td>NA         </td><td>NA         </td><td>NA         </td><td>NA         </td><td>NA         </td><td>NA         </td><td>NA         </td><td>NA         </td><td>NA         </td><td>NA         </td><td>NA         </td><td>NA         </td><td>NA         </td><td>NA         </td><td>NA         </td><td>NA         </td><td>NA         </td><td>NA         </td><td>NA         </td><td>NA         </td><td>NA         </td><td>NA         </td><td>NA         </td><td>NA         </td><td>NA         </td></tr>\n",
       "\t<tr><td>Afghanistan</td><td>AF         </td><td>AFG        </td><td>1989       </td><td>NA         </td><td>NA         </td><td>NA         </td><td>NA         </td><td>NA         </td><td>NA         </td><td>NA         </td><td>NA         </td><td>NA         </td><td>NA         </td><td>NA         </td><td>NA         </td><td>NA         </td><td>NA         </td><td>NA         </td><td>NA         </td><td>NA         </td><td>NA         </td><td>NA         </td><td>NA         </td><td>NA         </td><td>⋯          </td><td>NA         </td><td>NA         </td><td>NA         </td><td>NA         </td><td>NA         </td><td>NA         </td><td>NA         </td><td>NA         </td><td>NA         </td><td>NA         </td><td>NA         </td><td>NA         </td><td>NA         </td><td>NA         </td><td>NA         </td><td>NA         </td><td>NA         </td><td>NA         </td><td>NA         </td><td>NA         </td><td>NA         </td><td>NA         </td><td>NA         </td><td>NA         </td><td>NA         </td></tr>\n",
       "\t<tr><td>⋮</td><td>⋮</td><td>⋮</td><td>⋮</td><td>⋮</td><td>⋮</td><td>⋮</td><td>⋮</td><td>⋮</td><td>⋮</td><td>⋮</td><td>⋮</td><td>⋮</td><td>⋮</td><td>⋮</td><td>⋮</td><td>⋮</td><td>⋮</td><td>⋮</td><td>⋮</td><td>⋮</td><td>⋮</td><td>⋮</td><td>⋮</td><td>⋮</td><td>⋱</td><td>⋮</td><td>⋮</td><td>⋮</td><td>⋮</td><td>⋮</td><td>⋮</td><td>⋮</td><td>⋮</td><td>⋮</td><td>⋮</td><td>⋮</td><td>⋮</td><td>⋮</td><td>⋮</td><td>⋮</td><td>⋮</td><td>⋮</td><td>⋮</td><td>⋮</td><td>⋮</td><td>⋮</td><td>⋮</td><td>⋮</td><td>⋮</td><td>⋮</td></tr>\n",
       "\t<tr><td>Zimbabwe</td><td>ZW      </td><td>ZWE     </td><td>2004    </td><td>187     </td><td>833     </td><td>2908    </td><td>2298    </td><td>1056    </td><td>366     </td><td>198     </td><td>225     </td><td>1140    </td><td>2858    </td><td>1565    </td><td>622     </td><td>214     </td><td>111     </td><td>  NA    </td><td>  NA    </td><td>  NA    </td><td>  NA    </td><td>  NA    </td><td> NA     </td><td> NA     </td><td>⋯       </td><td>  NA    </td><td> NA     </td><td> NA     </td><td> NA     </td><td> NA     </td><td>  NA    </td><td>  NA    </td><td>  NA    </td><td> NA     </td><td> NA     </td><td> NA     </td><td>  NA    </td><td>  NA    </td><td>  NA    </td><td>  NA    </td><td>  NA    </td><td>  NA    </td><td>  NA    </td><td>  NA    </td><td>  NA    </td><td>  NA    </td><td>  NA    </td><td>  NA    </td><td> NA     </td><td> NA     </td></tr>\n",
       "\t<tr><td>Zimbabwe</td><td>ZW      </td><td>ZWE     </td><td>2005    </td><td>210     </td><td>837     </td><td>2264    </td><td>1855    </td><td> 762    </td><td>295     </td><td>656     </td><td>269     </td><td>1136    </td><td>2242    </td><td>1255    </td><td>578     </td><td>193     </td><td>603     </td><td>  NA    </td><td>  NA    </td><td>  NA    </td><td>  NA    </td><td>  NA    </td><td> NA     </td><td> NA     </td><td>⋯       </td><td>  NA    </td><td> NA     </td><td> NA     </td><td> NA     </td><td> NA     </td><td>  NA    </td><td>  NA    </td><td>  NA    </td><td> NA     </td><td> NA     </td><td> NA     </td><td>  NA    </td><td>  NA    </td><td>  NA    </td><td>  NA    </td><td>  NA    </td><td>  NA    </td><td>  NA    </td><td>  NA    </td><td>  NA    </td><td>  NA    </td><td>  NA    </td><td>  NA    </td><td> NA     </td><td> NA     </td></tr>\n",
       "\t<tr><td>Zimbabwe</td><td>ZW      </td><td>ZWE     </td><td>2006    </td><td>215     </td><td>736     </td><td>2391    </td><td>1939    </td><td> 896    </td><td>348     </td><td>199     </td><td>237     </td><td>1020    </td><td>2424    </td><td>1355    </td><td>632     </td><td>230     </td><td> 96     </td><td>1558    </td><td> 699    </td><td>3268    </td><td>3394    </td><td>1729    </td><td>804     </td><td>543     </td><td>⋯       </td><td>1001    </td><td>434     </td><td>177     </td><td>127     </td><td>278     </td><td> 403    </td><td>1129    </td><td> 821    </td><td>384     </td><td>148     </td><td> 92     </td><td>  NA    </td><td>  NA    </td><td>  NA    </td><td>  NA    </td><td>  NA    </td><td>  NA    </td><td>  NA    </td><td>  NA    </td><td>  NA    </td><td>  NA    </td><td>  NA    </td><td>  NA    </td><td> NA     </td><td> NA     </td></tr>\n",
       "\t<tr><td>Zimbabwe</td><td>ZW      </td><td>ZWE     </td><td>2007    </td><td>138     </td><td>500     </td><td>3693    </td><td>   0    </td><td> 716    </td><td>292     </td><td>153     </td><td>185     </td><td> 739    </td><td>3311    </td><td>   0    </td><td>553     </td><td>213     </td><td> 90     </td><td>2347    </td><td>6460    </td><td> 740    </td><td>   0    </td><td> 222    </td><td> 89     </td><td> 65     </td><td>⋯       </td><td>   0    </td><td> 30     </td><td> 18     </td><td> 14     </td><td>193     </td><td>2670    </td><td> 120    </td><td>   0    </td><td> 27     </td><td> 12     </td><td>  9     </td><td>  NA    </td><td>  NA    </td><td>  NA    </td><td>  NA    </td><td>  NA    </td><td>  NA    </td><td>  NA    </td><td>  NA    </td><td>  NA    </td><td>  NA    </td><td>  NA    </td><td>  NA    </td><td> NA     </td><td> NA     </td></tr>\n",
       "\t<tr><td>Zimbabwe</td><td>ZW      </td><td>ZWE     </td><td>2008    </td><td>127     </td><td>614     </td><td>   0    </td><td>3316    </td><td> 704    </td><td>263     </td><td>185     </td><td>145     </td><td> 840    </td><td>   0    </td><td>2890    </td><td>467     </td><td>174     </td><td>105     </td><td>1364    </td><td> 837    </td><td>   0    </td><td>5521    </td><td>1388    </td><td>613     </td><td>490     </td><td>⋯       </td><td>1862    </td><td>457     </td><td>183     </td><td>147     </td><td>224     </td><td> 394    </td><td>   0    </td><td>1622    </td><td>322     </td><td>142     </td><td>104     </td><td>  NA    </td><td>  NA    </td><td>  NA    </td><td>  NA    </td><td>  NA    </td><td>  NA    </td><td>  NA    </td><td>  NA    </td><td>  NA    </td><td>  NA    </td><td>  NA    </td><td>  NA    </td><td> NA     </td><td> NA     </td></tr>\n",
       "\t<tr><td>Zimbabwe</td><td>ZW      </td><td>ZWE     </td><td>2009    </td><td>125     </td><td>578     </td><td>  NA    </td><td>3471    </td><td> 681    </td><td>293     </td><td>192     </td><td>180     </td><td> 873    </td><td>  NA    </td><td>3028    </td><td>419     </td><td>229     </td><td>126     </td><td>1560    </td><td> 860    </td><td>  NA    </td><td>6496    </td><td>1655    </td><td>882     </td><td>861     </td><td>⋯       </td><td>1922    </td><td>491     </td><td>231     </td><td>223     </td><td>210     </td><td> 394    </td><td>   0    </td><td>1944    </td><td>438     </td><td>182     </td><td>138     </td><td>  NA    </td><td>  NA    </td><td>  NA    </td><td>  NA    </td><td>  NA    </td><td>  NA    </td><td>  NA    </td><td>  NA    </td><td>  NA    </td><td>  NA    </td><td>  NA    </td><td>  NA    </td><td> NA     </td><td> NA     </td></tr>\n",
       "\t<tr><td>Zimbabwe</td><td>ZW      </td><td>ZWE     </td><td>2010    </td><td>150     </td><td>710     </td><td>2208    </td><td>1682    </td><td> 761    </td><td>350     </td><td>252     </td><td>173     </td><td> 974    </td><td>2185    </td><td>1283    </td><td>490     </td><td>265     </td><td>171     </td><td>1826    </td><td> 821    </td><td>3342    </td><td>3270    </td><td>1545    </td><td>882     </td><td>864     </td><td>⋯       </td><td> 868    </td><td>418     </td><td>229     </td><td>192     </td><td>220     </td><td> 319    </td><td>1058    </td><td> 677    </td><td>338     </td><td>181     </td><td>146     </td><td>  NA    </td><td>  NA    </td><td>  NA    </td><td>  NA    </td><td>  NA    </td><td>  NA    </td><td>  NA    </td><td>  NA    </td><td>  NA    </td><td>  NA    </td><td>  NA    </td><td>  NA    </td><td> NA     </td><td> NA     </td></tr>\n",
       "\t<tr><td>Zimbabwe</td><td>ZW      </td><td>ZWE     </td><td>2011    </td><td>152     </td><td>784     </td><td>2467    </td><td>2071    </td><td> 780    </td><td>377     </td><td>278     </td><td>174     </td><td>1084    </td><td>2161    </td><td>1386    </td><td>448     </td><td>274     </td><td>160     </td><td>1364    </td><td> 596    </td><td>2473    </td><td>2813    </td><td>1264    </td><td>702     </td><td>728     </td><td>⋯       </td><td> 796    </td><td>342     </td><td>172     </td><td>172     </td><td>209     </td><td> 318    </td><td> 802    </td><td> 640    </td><td>284     </td><td>137     </td><td>129     </td><td>  NA    </td><td>  NA    </td><td>  NA    </td><td>  NA    </td><td>  NA    </td><td>  NA    </td><td>  NA    </td><td>  NA    </td><td>  NA    </td><td>  NA    </td><td>  NA    </td><td>  NA    </td><td> NA     </td><td> NA     </td></tr>\n",
       "\t<tr><td>Zimbabwe</td><td>ZW      </td><td>ZWE     </td><td>2012    </td><td>120     </td><td>783     </td><td>2421    </td><td>2086    </td><td> 796    </td><td>360     </td><td>271     </td><td>173     </td><td> 939    </td><td>2053    </td><td>1286    </td><td>483     </td><td>231     </td><td>161     </td><td>1169    </td><td> 613    </td><td>2302    </td><td>2657    </td><td>1154    </td><td>708     </td><td>796     </td><td>⋯       </td><td> 789    </td><td>331     </td><td>178     </td><td>182     </td><td>208     </td><td> 319    </td><td> 710    </td><td> 579    </td><td>228     </td><td>140     </td><td>143     </td><td>  NA    </td><td>  NA    </td><td>  NA    </td><td>  NA    </td><td>  NA    </td><td>  NA    </td><td>  NA    </td><td>  NA    </td><td>  NA    </td><td>  NA    </td><td>  NA    </td><td>  NA    </td><td> NA     </td><td> NA     </td></tr>\n",
       "\t<tr><td>Zimbabwe</td><td>ZW      </td><td>ZWE     </td><td>2013    </td><td> NA     </td><td> NA     </td><td>  NA    </td><td>  NA    </td><td>  NA    </td><td> NA     </td><td> NA     </td><td> NA     </td><td>  NA    </td><td>  NA    </td><td>  NA    </td><td> NA     </td><td> NA     </td><td> NA     </td><td>  NA    </td><td>  NA    </td><td>  NA    </td><td>  NA    </td><td>  NA    </td><td> NA     </td><td> NA     </td><td>⋯       </td><td>  NA    </td><td> NA     </td><td> NA     </td><td> NA     </td><td> NA     </td><td>  NA    </td><td>  NA    </td><td>  NA    </td><td> NA     </td><td> NA     </td><td> NA     </td><td>1315    </td><td>1642    </td><td>5331    </td><td>5363    </td><td>2349    </td><td>1206    </td><td>1208    </td><td>1252    </td><td>2069    </td><td>4649    </td><td>3526    </td><td>1453    </td><td>811     </td><td>725     </td></tr>\n",
       "</tbody>\n",
       "</table>\n"
      ],
      "text/latex": [
       "\\begin{tabular}{r|llllllllllllllllllllllllllllllllllllllllllllllllllllllllllll}\n",
       " country & iso2 & iso3 & year & new\\_sp\\_m014 & new\\_sp\\_m1524 & new\\_sp\\_m2534 & new\\_sp\\_m3544 & new\\_sp\\_m4554 & new\\_sp\\_m5564 & new\\_sp\\_m65 & new\\_sp\\_f014 & new\\_sp\\_f1524 & new\\_sp\\_f2534 & new\\_sp\\_f3544 & new\\_sp\\_f4554 & new\\_sp\\_f5564 & new\\_sp\\_f65 & new\\_sn\\_m014 & new\\_sn\\_m1524 & new\\_sn\\_m2534 & new\\_sn\\_m3544 & new\\_sn\\_m4554 & new\\_sn\\_m5564 & new\\_sn\\_m65 & ⋯ & new\\_ep\\_m3544 & new\\_ep\\_m4554 & new\\_ep\\_m5564 & new\\_ep\\_m65 & new\\_ep\\_f014 & new\\_ep\\_f1524 & new\\_ep\\_f2534 & new\\_ep\\_f3544 & new\\_ep\\_f4554 & new\\_ep\\_f5564 & new\\_ep\\_f65 & newrel\\_m014 & newrel\\_m1524 & newrel\\_m2534 & newrel\\_m3544 & newrel\\_m4554 & newrel\\_m5564 & newrel\\_m65 & newrel\\_f014 & newrel\\_f1524 & newrel\\_f2534 & newrel\\_f3544 & newrel\\_f4554 & newrel\\_f5564 & newrel\\_f65\\\\\n",
       "\\hline\n",
       "\t Afghanistan & AF          & AFG         & 1980        & NA          & NA          & NA          & NA          & NA          & NA          & NA          & NA          & NA          & NA          & NA          & NA          & NA          & NA          & NA          & NA          & NA          & NA          & NA          & NA          & NA          & ⋯           & NA          & NA          & NA          & NA          & NA          & NA          & NA          & NA          & NA          & NA          & NA          & NA          & NA          & NA          & NA          & NA          & NA          & NA          & NA          & NA          & NA          & NA          & NA          & NA          & NA         \\\\\n",
       "\t Afghanistan & AF          & AFG         & 1981        & NA          & NA          & NA          & NA          & NA          & NA          & NA          & NA          & NA          & NA          & NA          & NA          & NA          & NA          & NA          & NA          & NA          & NA          & NA          & NA          & NA          & ⋯           & NA          & NA          & NA          & NA          & NA          & NA          & NA          & NA          & NA          & NA          & NA          & NA          & NA          & NA          & NA          & NA          & NA          & NA          & NA          & NA          & NA          & NA          & NA          & NA          & NA         \\\\\n",
       "\t Afghanistan & AF          & AFG         & 1982        & NA          & NA          & NA          & NA          & NA          & NA          & NA          & NA          & NA          & NA          & NA          & NA          & NA          & NA          & NA          & NA          & NA          & NA          & NA          & NA          & NA          & ⋯           & NA          & NA          & NA          & NA          & NA          & NA          & NA          & NA          & NA          & NA          & NA          & NA          & NA          & NA          & NA          & NA          & NA          & NA          & NA          & NA          & NA          & NA          & NA          & NA          & NA         \\\\\n",
       "\t Afghanistan & AF          & AFG         & 1983        & NA          & NA          & NA          & NA          & NA          & NA          & NA          & NA          & NA          & NA          & NA          & NA          & NA          & NA          & NA          & NA          & NA          & NA          & NA          & NA          & NA          & ⋯           & NA          & NA          & NA          & NA          & NA          & NA          & NA          & NA          & NA          & NA          & NA          & NA          & NA          & NA          & NA          & NA          & NA          & NA          & NA          & NA          & NA          & NA          & NA          & NA          & NA         \\\\\n",
       "\t Afghanistan & AF          & AFG         & 1984        & NA          & NA          & NA          & NA          & NA          & NA          & NA          & NA          & NA          & NA          & NA          & NA          & NA          & NA          & NA          & NA          & NA          & NA          & NA          & NA          & NA          & ⋯           & NA          & NA          & NA          & NA          & NA          & NA          & NA          & NA          & NA          & NA          & NA          & NA          & NA          & NA          & NA          & NA          & NA          & NA          & NA          & NA          & NA          & NA          & NA          & NA          & NA         \\\\\n",
       "\t Afghanistan & AF          & AFG         & 1985        & NA          & NA          & NA          & NA          & NA          & NA          & NA          & NA          & NA          & NA          & NA          & NA          & NA          & NA          & NA          & NA          & NA          & NA          & NA          & NA          & NA          & ⋯           & NA          & NA          & NA          & NA          & NA          & NA          & NA          & NA          & NA          & NA          & NA          & NA          & NA          & NA          & NA          & NA          & NA          & NA          & NA          & NA          & NA          & NA          & NA          & NA          & NA         \\\\\n",
       "\t Afghanistan & AF          & AFG         & 1986        & NA          & NA          & NA          & NA          & NA          & NA          & NA          & NA          & NA          & NA          & NA          & NA          & NA          & NA          & NA          & NA          & NA          & NA          & NA          & NA          & NA          & ⋯           & NA          & NA          & NA          & NA          & NA          & NA          & NA          & NA          & NA          & NA          & NA          & NA          & NA          & NA          & NA          & NA          & NA          & NA          & NA          & NA          & NA          & NA          & NA          & NA          & NA         \\\\\n",
       "\t Afghanistan & AF          & AFG         & 1987        & NA          & NA          & NA          & NA          & NA          & NA          & NA          & NA          & NA          & NA          & NA          & NA          & NA          & NA          & NA          & NA          & NA          & NA          & NA          & NA          & NA          & ⋯           & NA          & NA          & NA          & NA          & NA          & NA          & NA          & NA          & NA          & NA          & NA          & NA          & NA          & NA          & NA          & NA          & NA          & NA          & NA          & NA          & NA          & NA          & NA          & NA          & NA         \\\\\n",
       "\t Afghanistan & AF          & AFG         & 1988        & NA          & NA          & NA          & NA          & NA          & NA          & NA          & NA          & NA          & NA          & NA          & NA          & NA          & NA          & NA          & NA          & NA          & NA          & NA          & NA          & NA          & ⋯           & NA          & NA          & NA          & NA          & NA          & NA          & NA          & NA          & NA          & NA          & NA          & NA          & NA          & NA          & NA          & NA          & NA          & NA          & NA          & NA          & NA          & NA          & NA          & NA          & NA         \\\\\n",
       "\t Afghanistan & AF          & AFG         & 1989        & NA          & NA          & NA          & NA          & NA          & NA          & NA          & NA          & NA          & NA          & NA          & NA          & NA          & NA          & NA          & NA          & NA          & NA          & NA          & NA          & NA          & ⋯           & NA          & NA          & NA          & NA          & NA          & NA          & NA          & NA          & NA          & NA          & NA          & NA          & NA          & NA          & NA          & NA          & NA          & NA          & NA          & NA          & NA          & NA          & NA          & NA          & NA         \\\\\n",
       "\t ⋮ & ⋮ & ⋮ & ⋮ & ⋮ & ⋮ & ⋮ & ⋮ & ⋮ & ⋮ & ⋮ & ⋮ & ⋮ & ⋮ & ⋮ & ⋮ & ⋮ & ⋮ & ⋮ & ⋮ & ⋮ & ⋮ & ⋮ & ⋮ & ⋮ & ⋱ & ⋮ & ⋮ & ⋮ & ⋮ & ⋮ & ⋮ & ⋮ & ⋮ & ⋮ & ⋮ & ⋮ & ⋮ & ⋮ & ⋮ & ⋮ & ⋮ & ⋮ & ⋮ & ⋮ & ⋮ & ⋮ & ⋮ & ⋮ & ⋮ & ⋮\\\\\n",
       "\t Zimbabwe & ZW       & ZWE      & 2004     & 187      & 833      & 2908     & 2298     & 1056     & 366      & 198      & 225      & 1140     & 2858     & 1565     & 622      & 214      & 111      &   NA     &   NA     &   NA     &   NA     &   NA     &  NA      &  NA      & ⋯        &   NA     &  NA      &  NA      &  NA      &  NA      &   NA     &   NA     &   NA     &  NA      &  NA      &  NA      &   NA     &   NA     &   NA     &   NA     &   NA     &   NA     &   NA     &   NA     &   NA     &   NA     &   NA     &   NA     &  NA      &  NA     \\\\\n",
       "\t Zimbabwe & ZW       & ZWE      & 2005     & 210      & 837      & 2264     & 1855     &  762     & 295      & 656      & 269      & 1136     & 2242     & 1255     & 578      & 193      & 603      &   NA     &   NA     &   NA     &   NA     &   NA     &  NA      &  NA      & ⋯        &   NA     &  NA      &  NA      &  NA      &  NA      &   NA     &   NA     &   NA     &  NA      &  NA      &  NA      &   NA     &   NA     &   NA     &   NA     &   NA     &   NA     &   NA     &   NA     &   NA     &   NA     &   NA     &   NA     &  NA      &  NA     \\\\\n",
       "\t Zimbabwe & ZW       & ZWE      & 2006     & 215      & 736      & 2391     & 1939     &  896     & 348      & 199      & 237      & 1020     & 2424     & 1355     & 632      & 230      &  96      & 1558     &  699     & 3268     & 3394     & 1729     & 804      & 543      & ⋯        & 1001     & 434      & 177      & 127      & 278      &  403     & 1129     &  821     & 384      & 148      &  92      &   NA     &   NA     &   NA     &   NA     &   NA     &   NA     &   NA     &   NA     &   NA     &   NA     &   NA     &   NA     &  NA      &  NA     \\\\\n",
       "\t Zimbabwe & ZW       & ZWE      & 2007     & 138      & 500      & 3693     &    0     &  716     & 292      & 153      & 185      &  739     & 3311     &    0     & 553      & 213      &  90      & 2347     & 6460     &  740     &    0     &  222     &  89      &  65      & ⋯        &    0     &  30      &  18      &  14      & 193      & 2670     &  120     &    0     &  27      &  12      &   9      &   NA     &   NA     &   NA     &   NA     &   NA     &   NA     &   NA     &   NA     &   NA     &   NA     &   NA     &   NA     &  NA      &  NA     \\\\\n",
       "\t Zimbabwe & ZW       & ZWE      & 2008     & 127      & 614      &    0     & 3316     &  704     & 263      & 185      & 145      &  840     &    0     & 2890     & 467      & 174      & 105      & 1364     &  837     &    0     & 5521     & 1388     & 613      & 490      & ⋯        & 1862     & 457      & 183      & 147      & 224      &  394     &    0     & 1622     & 322      & 142      & 104      &   NA     &   NA     &   NA     &   NA     &   NA     &   NA     &   NA     &   NA     &   NA     &   NA     &   NA     &   NA     &  NA      &  NA     \\\\\n",
       "\t Zimbabwe & ZW       & ZWE      & 2009     & 125      & 578      &   NA     & 3471     &  681     & 293      & 192      & 180      &  873     &   NA     & 3028     & 419      & 229      & 126      & 1560     &  860     &   NA     & 6496     & 1655     & 882      & 861      & ⋯        & 1922     & 491      & 231      & 223      & 210      &  394     &    0     & 1944     & 438      & 182      & 138      &   NA     &   NA     &   NA     &   NA     &   NA     &   NA     &   NA     &   NA     &   NA     &   NA     &   NA     &   NA     &  NA      &  NA     \\\\\n",
       "\t Zimbabwe & ZW       & ZWE      & 2010     & 150      & 710      & 2208     & 1682     &  761     & 350      & 252      & 173      &  974     & 2185     & 1283     & 490      & 265      & 171      & 1826     &  821     & 3342     & 3270     & 1545     & 882      & 864      & ⋯        &  868     & 418      & 229      & 192      & 220      &  319     & 1058     &  677     & 338      & 181      & 146      &   NA     &   NA     &   NA     &   NA     &   NA     &   NA     &   NA     &   NA     &   NA     &   NA     &   NA     &   NA     &  NA      &  NA     \\\\\n",
       "\t Zimbabwe & ZW       & ZWE      & 2011     & 152      & 784      & 2467     & 2071     &  780     & 377      & 278      & 174      & 1084     & 2161     & 1386     & 448      & 274      & 160      & 1364     &  596     & 2473     & 2813     & 1264     & 702      & 728      & ⋯        &  796     & 342      & 172      & 172      & 209      &  318     &  802     &  640     & 284      & 137      & 129      &   NA     &   NA     &   NA     &   NA     &   NA     &   NA     &   NA     &   NA     &   NA     &   NA     &   NA     &   NA     &  NA      &  NA     \\\\\n",
       "\t Zimbabwe & ZW       & ZWE      & 2012     & 120      & 783      & 2421     & 2086     &  796     & 360      & 271      & 173      &  939     & 2053     & 1286     & 483      & 231      & 161      & 1169     &  613     & 2302     & 2657     & 1154     & 708      & 796      & ⋯        &  789     & 331      & 178      & 182      & 208      &  319     &  710     &  579     & 228      & 140      & 143      &   NA     &   NA     &   NA     &   NA     &   NA     &   NA     &   NA     &   NA     &   NA     &   NA     &   NA     &   NA     &  NA      &  NA     \\\\\n",
       "\t Zimbabwe & ZW       & ZWE      & 2013     &  NA      &  NA      &   NA     &   NA     &   NA     &  NA      &  NA      &  NA      &   NA     &   NA     &   NA     &  NA      &  NA      &  NA      &   NA     &   NA     &   NA     &   NA     &   NA     &  NA      &  NA      & ⋯        &   NA     &  NA      &  NA      &  NA      &  NA      &   NA     &   NA     &   NA     &  NA      &  NA      &  NA      & 1315     & 1642     & 5331     & 5363     & 2349     & 1206     & 1208     & 1252     & 2069     & 4649     & 3526     & 1453     & 811      & 725     \\\\\n",
       "\\end{tabular}\n"
      ],
      "text/markdown": [
       "\n",
       "country | iso2 | iso3 | year | new_sp_m014 | new_sp_m1524 | new_sp_m2534 | new_sp_m3544 | new_sp_m4554 | new_sp_m5564 | new_sp_m65 | new_sp_f014 | new_sp_f1524 | new_sp_f2534 | new_sp_f3544 | new_sp_f4554 | new_sp_f5564 | new_sp_f65 | new_sn_m014 | new_sn_m1524 | new_sn_m2534 | new_sn_m3544 | new_sn_m4554 | new_sn_m5564 | new_sn_m65 | ⋯ | new_ep_m3544 | new_ep_m4554 | new_ep_m5564 | new_ep_m65 | new_ep_f014 | new_ep_f1524 | new_ep_f2534 | new_ep_f3544 | new_ep_f4554 | new_ep_f5564 | new_ep_f65 | newrel_m014 | newrel_m1524 | newrel_m2534 | newrel_m3544 | newrel_m4554 | newrel_m5564 | newrel_m65 | newrel_f014 | newrel_f1524 | newrel_f2534 | newrel_f3544 | newrel_f4554 | newrel_f5564 | newrel_f65 | \n",
       "|---|---|---|---|---|---|---|---|---|---|---|---|---|---|---|---|---|---|---|---|---|\n",
       "| Afghanistan | AF          | AFG         | 1980        | NA          | NA          | NA          | NA          | NA          | NA          | NA          | NA          | NA          | NA          | NA          | NA          | NA          | NA          | NA          | NA          | NA          | NA          | NA          | NA          | NA          | ⋯           | NA          | NA          | NA          | NA          | NA          | NA          | NA          | NA          | NA          | NA          | NA          | NA          | NA          | NA          | NA          | NA          | NA          | NA          | NA          | NA          | NA          | NA          | NA          | NA          | NA          | \n",
       "| Afghanistan | AF          | AFG         | 1981        | NA          | NA          | NA          | NA          | NA          | NA          | NA          | NA          | NA          | NA          | NA          | NA          | NA          | NA          | NA          | NA          | NA          | NA          | NA          | NA          | NA          | ⋯           | NA          | NA          | NA          | NA          | NA          | NA          | NA          | NA          | NA          | NA          | NA          | NA          | NA          | NA          | NA          | NA          | NA          | NA          | NA          | NA          | NA          | NA          | NA          | NA          | NA          | \n",
       "| Afghanistan | AF          | AFG         | 1982        | NA          | NA          | NA          | NA          | NA          | NA          | NA          | NA          | NA          | NA          | NA          | NA          | NA          | NA          | NA          | NA          | NA          | NA          | NA          | NA          | NA          | ⋯           | NA          | NA          | NA          | NA          | NA          | NA          | NA          | NA          | NA          | NA          | NA          | NA          | NA          | NA          | NA          | NA          | NA          | NA          | NA          | NA          | NA          | NA          | NA          | NA          | NA          | \n",
       "| Afghanistan | AF          | AFG         | 1983        | NA          | NA          | NA          | NA          | NA          | NA          | NA          | NA          | NA          | NA          | NA          | NA          | NA          | NA          | NA          | NA          | NA          | NA          | NA          | NA          | NA          | ⋯           | NA          | NA          | NA          | NA          | NA          | NA          | NA          | NA          | NA          | NA          | NA          | NA          | NA          | NA          | NA          | NA          | NA          | NA          | NA          | NA          | NA          | NA          | NA          | NA          | NA          | \n",
       "| Afghanistan | AF          | AFG         | 1984        | NA          | NA          | NA          | NA          | NA          | NA          | NA          | NA          | NA          | NA          | NA          | NA          | NA          | NA          | NA          | NA          | NA          | NA          | NA          | NA          | NA          | ⋯           | NA          | NA          | NA          | NA          | NA          | NA          | NA          | NA          | NA          | NA          | NA          | NA          | NA          | NA          | NA          | NA          | NA          | NA          | NA          | NA          | NA          | NA          | NA          | NA          | NA          | \n",
       "| Afghanistan | AF          | AFG         | 1985        | NA          | NA          | NA          | NA          | NA          | NA          | NA          | NA          | NA          | NA          | NA          | NA          | NA          | NA          | NA          | NA          | NA          | NA          | NA          | NA          | NA          | ⋯           | NA          | NA          | NA          | NA          | NA          | NA          | NA          | NA          | NA          | NA          | NA          | NA          | NA          | NA          | NA          | NA          | NA          | NA          | NA          | NA          | NA          | NA          | NA          | NA          | NA          | \n",
       "| Afghanistan | AF          | AFG         | 1986        | NA          | NA          | NA          | NA          | NA          | NA          | NA          | NA          | NA          | NA          | NA          | NA          | NA          | NA          | NA          | NA          | NA          | NA          | NA          | NA          | NA          | ⋯           | NA          | NA          | NA          | NA          | NA          | NA          | NA          | NA          | NA          | NA          | NA          | NA          | NA          | NA          | NA          | NA          | NA          | NA          | NA          | NA          | NA          | NA          | NA          | NA          | NA          | \n",
       "| Afghanistan | AF          | AFG         | 1987        | NA          | NA          | NA          | NA          | NA          | NA          | NA          | NA          | NA          | NA          | NA          | NA          | NA          | NA          | NA          | NA          | NA          | NA          | NA          | NA          | NA          | ⋯           | NA          | NA          | NA          | NA          | NA          | NA          | NA          | NA          | NA          | NA          | NA          | NA          | NA          | NA          | NA          | NA          | NA          | NA          | NA          | NA          | NA          | NA          | NA          | NA          | NA          | \n",
       "| Afghanistan | AF          | AFG         | 1988        | NA          | NA          | NA          | NA          | NA          | NA          | NA          | NA          | NA          | NA          | NA          | NA          | NA          | NA          | NA          | NA          | NA          | NA          | NA          | NA          | NA          | ⋯           | NA          | NA          | NA          | NA          | NA          | NA          | NA          | NA          | NA          | NA          | NA          | NA          | NA          | NA          | NA          | NA          | NA          | NA          | NA          | NA          | NA          | NA          | NA          | NA          | NA          | \n",
       "| Afghanistan | AF          | AFG         | 1989        | NA          | NA          | NA          | NA          | NA          | NA          | NA          | NA          | NA          | NA          | NA          | NA          | NA          | NA          | NA          | NA          | NA          | NA          | NA          | NA          | NA          | ⋯           | NA          | NA          | NA          | NA          | NA          | NA          | NA          | NA          | NA          | NA          | NA          | NA          | NA          | NA          | NA          | NA          | NA          | NA          | NA          | NA          | NA          | NA          | NA          | NA          | NA          | \n",
       "| ⋮ | ⋮ | ⋮ | ⋮ | ⋮ | ⋮ | ⋮ | ⋮ | ⋮ | ⋮ | ⋮ | ⋮ | ⋮ | ⋮ | ⋮ | ⋮ | ⋮ | ⋮ | ⋮ | ⋮ | ⋮ | ⋮ | ⋮ | ⋮ | ⋮ | ⋱ | ⋮ | ⋮ | ⋮ | ⋮ | ⋮ | ⋮ | ⋮ | ⋮ | ⋮ | ⋮ | ⋮ | ⋮ | ⋮ | ⋮ | ⋮ | ⋮ | ⋮ | ⋮ | ⋮ | ⋮ | ⋮ | ⋮ | ⋮ | ⋮ | ⋮ | \n",
       "| Zimbabwe | ZW       | ZWE      | 2004     | 187      | 833      | 2908     | 2298     | 1056     | 366      | 198      | 225      | 1140     | 2858     | 1565     | 622      | 214      | 111      |   NA     |   NA     |   NA     |   NA     |   NA     |  NA      |  NA      | ⋯        |   NA     |  NA      |  NA      |  NA      |  NA      |   NA     |   NA     |   NA     |  NA      |  NA      |  NA      |   NA     |   NA     |   NA     |   NA     |   NA     |   NA     |   NA     |   NA     |   NA     |   NA     |   NA     |   NA     |  NA      |  NA      | \n",
       "| Zimbabwe | ZW       | ZWE      | 2005     | 210      | 837      | 2264     | 1855     |  762     | 295      | 656      | 269      | 1136     | 2242     | 1255     | 578      | 193      | 603      |   NA     |   NA     |   NA     |   NA     |   NA     |  NA      |  NA      | ⋯        |   NA     |  NA      |  NA      |  NA      |  NA      |   NA     |   NA     |   NA     |  NA      |  NA      |  NA      |   NA     |   NA     |   NA     |   NA     |   NA     |   NA     |   NA     |   NA     |   NA     |   NA     |   NA     |   NA     |  NA      |  NA      | \n",
       "| Zimbabwe | ZW       | ZWE      | 2006     | 215      | 736      | 2391     | 1939     |  896     | 348      | 199      | 237      | 1020     | 2424     | 1355     | 632      | 230      |  96      | 1558     |  699     | 3268     | 3394     | 1729     | 804      | 543      | ⋯        | 1001     | 434      | 177      | 127      | 278      |  403     | 1129     |  821     | 384      | 148      |  92      |   NA     |   NA     |   NA     |   NA     |   NA     |   NA     |   NA     |   NA     |   NA     |   NA     |   NA     |   NA     |  NA      |  NA      | \n",
       "| Zimbabwe | ZW       | ZWE      | 2007     | 138      | 500      | 3693     |    0     |  716     | 292      | 153      | 185      |  739     | 3311     |    0     | 553      | 213      |  90      | 2347     | 6460     |  740     |    0     |  222     |  89      |  65      | ⋯        |    0     |  30      |  18      |  14      | 193      | 2670     |  120     |    0     |  27      |  12      |   9      |   NA     |   NA     |   NA     |   NA     |   NA     |   NA     |   NA     |   NA     |   NA     |   NA     |   NA     |   NA     |  NA      |  NA      | \n",
       "| Zimbabwe | ZW       | ZWE      | 2008     | 127      | 614      |    0     | 3316     |  704     | 263      | 185      | 145      |  840     |    0     | 2890     | 467      | 174      | 105      | 1364     |  837     |    0     | 5521     | 1388     | 613      | 490      | ⋯        | 1862     | 457      | 183      | 147      | 224      |  394     |    0     | 1622     | 322      | 142      | 104      |   NA     |   NA     |   NA     |   NA     |   NA     |   NA     |   NA     |   NA     |   NA     |   NA     |   NA     |   NA     |  NA      |  NA      | \n",
       "| Zimbabwe | ZW       | ZWE      | 2009     | 125      | 578      |   NA     | 3471     |  681     | 293      | 192      | 180      |  873     |   NA     | 3028     | 419      | 229      | 126      | 1560     |  860     |   NA     | 6496     | 1655     | 882      | 861      | ⋯        | 1922     | 491      | 231      | 223      | 210      |  394     |    0     | 1944     | 438      | 182      | 138      |   NA     |   NA     |   NA     |   NA     |   NA     |   NA     |   NA     |   NA     |   NA     |   NA     |   NA     |   NA     |  NA      |  NA      | \n",
       "| Zimbabwe | ZW       | ZWE      | 2010     | 150      | 710      | 2208     | 1682     |  761     | 350      | 252      | 173      |  974     | 2185     | 1283     | 490      | 265      | 171      | 1826     |  821     | 3342     | 3270     | 1545     | 882      | 864      | ⋯        |  868     | 418      | 229      | 192      | 220      |  319     | 1058     |  677     | 338      | 181      | 146      |   NA     |   NA     |   NA     |   NA     |   NA     |   NA     |   NA     |   NA     |   NA     |   NA     |   NA     |   NA     |  NA      |  NA      | \n",
       "| Zimbabwe | ZW       | ZWE      | 2011     | 152      | 784      | 2467     | 2071     |  780     | 377      | 278      | 174      | 1084     | 2161     | 1386     | 448      | 274      | 160      | 1364     |  596     | 2473     | 2813     | 1264     | 702      | 728      | ⋯        |  796     | 342      | 172      | 172      | 209      |  318     |  802     |  640     | 284      | 137      | 129      |   NA     |   NA     |   NA     |   NA     |   NA     |   NA     |   NA     |   NA     |   NA     |   NA     |   NA     |   NA     |  NA      |  NA      | \n",
       "| Zimbabwe | ZW       | ZWE      | 2012     | 120      | 783      | 2421     | 2086     |  796     | 360      | 271      | 173      |  939     | 2053     | 1286     | 483      | 231      | 161      | 1169     |  613     | 2302     | 2657     | 1154     | 708      | 796      | ⋯        |  789     | 331      | 178      | 182      | 208      |  319     |  710     |  579     | 228      | 140      | 143      |   NA     |   NA     |   NA     |   NA     |   NA     |   NA     |   NA     |   NA     |   NA     |   NA     |   NA     |   NA     |  NA      |  NA      | \n",
       "| Zimbabwe | ZW       | ZWE      | 2013     |  NA      |  NA      |   NA     |   NA     |   NA     |  NA      |  NA      |  NA      |   NA     |   NA     |   NA     |  NA      |  NA      |  NA      |   NA     |   NA     |   NA     |   NA     |   NA     |  NA      |  NA      | ⋯        |   NA     |  NA      |  NA      |  NA      |  NA      |   NA     |   NA     |   NA     |  NA      |  NA      |  NA      | 1315     | 1642     | 5331     | 5363     | 2349     | 1206     | 1208     | 1252     | 2069     | 4649     | 3526     | 1453     | 811      | 725      | \n",
       "\n",
       "\n"
      ],
      "text/plain": [
       "     country     iso2 iso3 year new_sp_m014 new_sp_m1524 new_sp_m2534\n",
       "1    Afghanistan AF   AFG  1980 NA          NA           NA          \n",
       "2    Afghanistan AF   AFG  1981 NA          NA           NA          \n",
       "3    Afghanistan AF   AFG  1982 NA          NA           NA          \n",
       "4    Afghanistan AF   AFG  1983 NA          NA           NA          \n",
       "5    Afghanistan AF   AFG  1984 NA          NA           NA          \n",
       "6    Afghanistan AF   AFG  1985 NA          NA           NA          \n",
       "7    Afghanistan AF   AFG  1986 NA          NA           NA          \n",
       "8    Afghanistan AF   AFG  1987 NA          NA           NA          \n",
       "9    Afghanistan AF   AFG  1988 NA          NA           NA          \n",
       "10   Afghanistan AF   AFG  1989 NA          NA           NA          \n",
       "⋮    ⋮           ⋮    ⋮    ⋮    ⋮           ⋮            ⋮           \n",
       "7231 Zimbabwe    ZW   ZWE  2004 187         833          2908        \n",
       "7232 Zimbabwe    ZW   ZWE  2005 210         837          2264        \n",
       "7233 Zimbabwe    ZW   ZWE  2006 215         736          2391        \n",
       "7234 Zimbabwe    ZW   ZWE  2007 138         500          3693        \n",
       "7235 Zimbabwe    ZW   ZWE  2008 127         614             0        \n",
       "7236 Zimbabwe    ZW   ZWE  2009 125         578            NA        \n",
       "7237 Zimbabwe    ZW   ZWE  2010 150         710          2208        \n",
       "7238 Zimbabwe    ZW   ZWE  2011 152         784          2467        \n",
       "7239 Zimbabwe    ZW   ZWE  2012 120         783          2421        \n",
       "7240 Zimbabwe    ZW   ZWE  2013  NA          NA            NA        \n",
       "     new_sp_m3544 new_sp_m4554 new_sp_m5564 new_sp_m65 new_sp_f014 new_sp_f1524\n",
       "1    NA           NA           NA           NA         NA          NA          \n",
       "2    NA           NA           NA           NA         NA          NA          \n",
       "3    NA           NA           NA           NA         NA          NA          \n",
       "4    NA           NA           NA           NA         NA          NA          \n",
       "5    NA           NA           NA           NA         NA          NA          \n",
       "6    NA           NA           NA           NA         NA          NA          \n",
       "7    NA           NA           NA           NA         NA          NA          \n",
       "8    NA           NA           NA           NA         NA          NA          \n",
       "9    NA           NA           NA           NA         NA          NA          \n",
       "10   NA           NA           NA           NA         NA          NA          \n",
       "⋮    ⋮            ⋮            ⋮            ⋮          ⋮           ⋮           \n",
       "7231 2298         1056         366          198        225         1140        \n",
       "7232 1855          762         295          656        269         1136        \n",
       "7233 1939          896         348          199        237         1020        \n",
       "7234    0          716         292          153        185          739        \n",
       "7235 3316          704         263          185        145          840        \n",
       "7236 3471          681         293          192        180          873        \n",
       "7237 1682          761         350          252        173          974        \n",
       "7238 2071          780         377          278        174         1084        \n",
       "7239 2086          796         360          271        173          939        \n",
       "7240   NA           NA          NA           NA         NA           NA        \n",
       "     new_sp_f2534 new_sp_f3544 new_sp_f4554 new_sp_f5564 new_sp_f65 new_sn_m014\n",
       "1    NA           NA           NA           NA           NA         NA         \n",
       "2    NA           NA           NA           NA           NA         NA         \n",
       "3    NA           NA           NA           NA           NA         NA         \n",
       "4    NA           NA           NA           NA           NA         NA         \n",
       "5    NA           NA           NA           NA           NA         NA         \n",
       "6    NA           NA           NA           NA           NA         NA         \n",
       "7    NA           NA           NA           NA           NA         NA         \n",
       "8    NA           NA           NA           NA           NA         NA         \n",
       "9    NA           NA           NA           NA           NA         NA         \n",
       "10   NA           NA           NA           NA           NA         NA         \n",
       "⋮    ⋮            ⋮            ⋮            ⋮            ⋮          ⋮          \n",
       "7231 2858         1565         622          214          111          NA       \n",
       "7232 2242         1255         578          193          603          NA       \n",
       "7233 2424         1355         632          230           96        1558       \n",
       "7234 3311            0         553          213           90        2347       \n",
       "7235    0         2890         467          174          105        1364       \n",
       "7236   NA         3028         419          229          126        1560       \n",
       "7237 2185         1283         490          265          171        1826       \n",
       "7238 2161         1386         448          274          160        1364       \n",
       "7239 2053         1286         483          231          161        1169       \n",
       "7240   NA           NA          NA           NA           NA          NA       \n",
       "     new_sn_m1524 new_sn_m2534 new_sn_m3544 new_sn_m4554 new_sn_m5564\n",
       "1    NA           NA           NA           NA           NA          \n",
       "2    NA           NA           NA           NA           NA          \n",
       "3    NA           NA           NA           NA           NA          \n",
       "4    NA           NA           NA           NA           NA          \n",
       "5    NA           NA           NA           NA           NA          \n",
       "6    NA           NA           NA           NA           NA          \n",
       "7    NA           NA           NA           NA           NA          \n",
       "8    NA           NA           NA           NA           NA          \n",
       "9    NA           NA           NA           NA           NA          \n",
       "10   NA           NA           NA           NA           NA          \n",
       "⋮    ⋮            ⋮            ⋮            ⋮            ⋮           \n",
       "7231   NA           NA           NA           NA          NA         \n",
       "7232   NA           NA           NA           NA          NA         \n",
       "7233  699         3268         3394         1729         804         \n",
       "7234 6460          740            0          222          89         \n",
       "7235  837            0         5521         1388         613         \n",
       "7236  860           NA         6496         1655         882         \n",
       "7237  821         3342         3270         1545         882         \n",
       "7238  596         2473         2813         1264         702         \n",
       "7239  613         2302         2657         1154         708         \n",
       "7240   NA           NA           NA           NA          NA         \n",
       "     new_sn_m65 ⋯ new_ep_m3544 new_ep_m4554 new_ep_m5564 new_ep_m65 new_ep_f014\n",
       "1    NA         ⋯ NA           NA           NA           NA         NA         \n",
       "2    NA         ⋯ NA           NA           NA           NA         NA         \n",
       "3    NA         ⋯ NA           NA           NA           NA         NA         \n",
       "4    NA         ⋯ NA           NA           NA           NA         NA         \n",
       "5    NA         ⋯ NA           NA           NA           NA         NA         \n",
       "6    NA         ⋯ NA           NA           NA           NA         NA         \n",
       "7    NA         ⋯ NA           NA           NA           NA         NA         \n",
       "8    NA         ⋯ NA           NA           NA           NA         NA         \n",
       "9    NA         ⋯ NA           NA           NA           NA         NA         \n",
       "10   NA         ⋯ NA           NA           NA           NA         NA         \n",
       "⋮    ⋮          ⋱ ⋮            ⋮            ⋮            ⋮          ⋮          \n",
       "7231  NA        ⋯   NA          NA           NA           NA         NA        \n",
       "7232  NA        ⋯   NA          NA           NA           NA         NA        \n",
       "7233 543        ⋯ 1001         434          177          127        278        \n",
       "7234  65        ⋯    0          30           18           14        193        \n",
       "7235 490        ⋯ 1862         457          183          147        224        \n",
       "7236 861        ⋯ 1922         491          231          223        210        \n",
       "7237 864        ⋯  868         418          229          192        220        \n",
       "7238 728        ⋯  796         342          172          172        209        \n",
       "7239 796        ⋯  789         331          178          182        208        \n",
       "7240  NA        ⋯   NA          NA           NA           NA         NA        \n",
       "     new_ep_f1524 new_ep_f2534 new_ep_f3544 new_ep_f4554 new_ep_f5564\n",
       "1    NA           NA           NA           NA           NA          \n",
       "2    NA           NA           NA           NA           NA          \n",
       "3    NA           NA           NA           NA           NA          \n",
       "4    NA           NA           NA           NA           NA          \n",
       "5    NA           NA           NA           NA           NA          \n",
       "6    NA           NA           NA           NA           NA          \n",
       "7    NA           NA           NA           NA           NA          \n",
       "8    NA           NA           NA           NA           NA          \n",
       "9    NA           NA           NA           NA           NA          \n",
       "10   NA           NA           NA           NA           NA          \n",
       "⋮    ⋮            ⋮            ⋮            ⋮            ⋮           \n",
       "7231   NA           NA           NA          NA           NA         \n",
       "7232   NA           NA           NA          NA           NA         \n",
       "7233  403         1129          821         384          148         \n",
       "7234 2670          120            0          27           12         \n",
       "7235  394            0         1622         322          142         \n",
       "7236  394            0         1944         438          182         \n",
       "7237  319         1058          677         338          181         \n",
       "7238  318          802          640         284          137         \n",
       "7239  319          710          579         228          140         \n",
       "7240   NA           NA           NA          NA           NA         \n",
       "     new_ep_f65 newrel_m014 newrel_m1524 newrel_m2534 newrel_m3544 newrel_m4554\n",
       "1    NA         NA          NA           NA           NA           NA          \n",
       "2    NA         NA          NA           NA           NA           NA          \n",
       "3    NA         NA          NA           NA           NA           NA          \n",
       "4    NA         NA          NA           NA           NA           NA          \n",
       "5    NA         NA          NA           NA           NA           NA          \n",
       "6    NA         NA          NA           NA           NA           NA          \n",
       "7    NA         NA          NA           NA           NA           NA          \n",
       "8    NA         NA          NA           NA           NA           NA          \n",
       "9    NA         NA          NA           NA           NA           NA          \n",
       "10   NA         NA          NA           NA           NA           NA          \n",
       "⋮    ⋮          ⋮           ⋮            ⋮            ⋮            ⋮           \n",
       "7231  NA          NA          NA           NA           NA           NA        \n",
       "7232  NA          NA          NA           NA           NA           NA        \n",
       "7233  92          NA          NA           NA           NA           NA        \n",
       "7234   9          NA          NA           NA           NA           NA        \n",
       "7235 104          NA          NA           NA           NA           NA        \n",
       "7236 138          NA          NA           NA           NA           NA        \n",
       "7237 146          NA          NA           NA           NA           NA        \n",
       "7238 129          NA          NA           NA           NA           NA        \n",
       "7239 143          NA          NA           NA           NA           NA        \n",
       "7240  NA        1315        1642         5331         5363         2349        \n",
       "     newrel_m5564 newrel_m65 newrel_f014 newrel_f1524 newrel_f2534 newrel_f3544\n",
       "1    NA           NA         NA          NA           NA           NA          \n",
       "2    NA           NA         NA          NA           NA           NA          \n",
       "3    NA           NA         NA          NA           NA           NA          \n",
       "4    NA           NA         NA          NA           NA           NA          \n",
       "5    NA           NA         NA          NA           NA           NA          \n",
       "6    NA           NA         NA          NA           NA           NA          \n",
       "7    NA           NA         NA          NA           NA           NA          \n",
       "8    NA           NA         NA          NA           NA           NA          \n",
       "9    NA           NA         NA          NA           NA           NA          \n",
       "10   NA           NA         NA          NA           NA           NA          \n",
       "⋮    ⋮            ⋮          ⋮           ⋮            ⋮            ⋮           \n",
       "7231   NA           NA         NA          NA           NA           NA        \n",
       "7232   NA           NA         NA          NA           NA           NA        \n",
       "7233   NA           NA         NA          NA           NA           NA        \n",
       "7234   NA           NA         NA          NA           NA           NA        \n",
       "7235   NA           NA         NA          NA           NA           NA        \n",
       "7236   NA           NA         NA          NA           NA           NA        \n",
       "7237   NA           NA         NA          NA           NA           NA        \n",
       "7238   NA           NA         NA          NA           NA           NA        \n",
       "7239   NA           NA         NA          NA           NA           NA        \n",
       "7240 1206         1208       1252        2069         4649         3526        \n",
       "     newrel_f4554 newrel_f5564 newrel_f65\n",
       "1    NA           NA           NA        \n",
       "2    NA           NA           NA        \n",
       "3    NA           NA           NA        \n",
       "4    NA           NA           NA        \n",
       "5    NA           NA           NA        \n",
       "6    NA           NA           NA        \n",
       "7    NA           NA           NA        \n",
       "8    NA           NA           NA        \n",
       "9    NA           NA           NA        \n",
       "10   NA           NA           NA        \n",
       "⋮    ⋮            ⋮            ⋮         \n",
       "7231   NA          NA           NA       \n",
       "7232   NA          NA           NA       \n",
       "7233   NA          NA           NA       \n",
       "7234   NA          NA           NA       \n",
       "7235   NA          NA           NA       \n",
       "7236   NA          NA           NA       \n",
       "7237   NA          NA           NA       \n",
       "7238   NA          NA           NA       \n",
       "7239   NA          NA           NA       \n",
       "7240 1453         811          725       "
      ]
     },
     "metadata": {},
     "output_type": "display_data"
    }
   ],
   "source": [
    "# Esto también se puede arreglar con options()\n",
    "options(repr.matrix.max.cols = 50, repr.matrix.max.rows = 20)\n",
    "who"
   ]
  },
  {
   "cell_type": "markdown",
   "metadata": {
    "slideshow": {
     "slide_type": "slide"
    }
   },
   "source": [
    "# formula"
   ]
  },
  {
   "cell_type": "markdown",
   "metadata": {
    "slideshow": {
     "slide_type": "fragment"
    }
   },
   "source": [
    "$$\n",
    "\\mu = 10\n",
    "$$"
   ]
  }
 ],
 "metadata": {
  "celltoolbar": "Slideshow",
  "kernelspec": {
   "display_name": "R",
   "language": "R",
   "name": "ir"
  },
  "language_info": {
   "codemirror_mode": "r",
   "file_extension": ".r",
   "mimetype": "text/x-r-source",
   "name": "R",
   "pygments_lexer": "r",
   "version": "3.4.3"
  }
 },
 "nbformat": 4,
 "nbformat_minor": 2
}
